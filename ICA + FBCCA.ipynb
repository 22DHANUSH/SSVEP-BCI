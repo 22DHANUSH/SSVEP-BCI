{
 "cells": [
  {
   "cell_type": "code",
   "execution_count": 1,
   "id": "39e19811-a207-40d5-875d-53a30f52ec13",
   "metadata": {},
   "outputs": [
    {
     "name": "stdout",
     "output_type": "stream",
     "text": [
      "Reading C:\\Users\\dhanu\\Desktop\\Caps\\code\\combined-epo.fif ...\n",
      "    Found the data of interest:\n",
      "        t =       0.00 ...    5996.00 ms\n",
      "        0 CTF compensation matrices available\n",
      "Not setting metadata\n",
      "1050 matching events found\n",
      "No baseline correction applied\n",
      "0 projection items activated\n",
      "Setting up band-pass filter from 6 - 64 Hz\n",
      "\n",
      "IIR filter parameters\n",
      "---------------------\n",
      "Butterworth bandpass zero-phase (two-pass forward and reverse) non-causal filter:\n",
      "- Filter order 20 (effective, after forward-backward)\n",
      "- Cutoffs at 6.00, 64.00 Hz: -6.02, -6.02 dB\n",
      "\n",
      "Fitting ICA to data using 3 channels (please be patient, this may take a while)\n"
     ]
    },
    {
     "name": "stderr",
     "output_type": "stream",
     "text": [
      "C:\\Users\\dhanu\\AppData\\Local\\Temp\\ipykernel_3672\\2639857521.py:21: RuntimeWarning: The epochs you passed to ICA.fit() were baseline-corrected. However, we suggest to fit ICA only on data that has been high-pass filtered, but NOT baseline-corrected.\n",
      "  ica.fit(epochs)\n"
     ]
    },
    {
     "name": "stdout",
     "output_type": "stream",
     "text": [
      "Selecting by number: 3 components\n",
      "Fitting ICA took 1.1s.\n",
      "Applying ICA to Epochs instance\n",
      "    Transforming to ICA space (3 components)\n",
      "    Zeroing out 0 ICA components\n",
      "    Projecting back using 3 PCA components\n"
     ]
    },
    {
     "name": "stderr",
     "output_type": "stream",
     "text": [
      "C:\\Users\\dhanu\\AppData\\Local\\Temp\\ipykernel_3672\\2639857521.py:22: RuntimeWarning: The data you passed to ICA.apply() was baseline-corrected. Please note that ICA can introduce DC shifts, therefore you may wish to consider baseline-correcting the cleaned data again.\n",
      "  ica.apply(epochs)\n"
     ]
    },
    {
     "name": "stdout",
     "output_type": "stream",
     "text": [
      "the accuracy for the FBCCA on the EEG data is 0.8980952380952381\n"
     ]
    },
    {
     "data": {
      "image/png": "[encoded data removed]",
      "text/plain": [
       "<Figure size 800x600 with 1 Axes>"
      ]
     },
     "metadata": {},
     "output_type": "display_data"
    }
   ],
   "source": [
    "import numpy as np\n",
    "from scipy.signal import butter, lfilter\n",
    "from sklearn.decomposition import FastICA\n",
    "from sklearn.cross_decomposition import CCA\n",
    "import mne\n",
    "from mne.preprocessing import ICA\n",
    "import matplotlib.pyplot as plt\n",
    "import seaborn as sns\n",
    "from sklearn.metrics import accuracy_score, confusion_matrix\n",
    "\n",
    "# Load the epochs\n",
    "epochs = mne.read_epochs(\"combined-epo.fif\")\n",
    "\n",
    "# Apply preprocessing filter\n",
    "epochs.filter(6, 64, method='iir', iir_params=dict(order=5, ftype='butter'))\n",
    "\n",
    "# Define ICA parameters and fit ICA\n",
    "n_components = 3\n",
    "method = 'fastica'\n",
    "ica = ICA(n_components=n_components, method=method, random_state=97)\n",
    "ica.fit(epochs)\n",
    "ica.apply(epochs)\n",
    "\n",
    "def generate_reference_signals(frequencies, sfreq, n_samples):\n",
    "    t = np.arange(n_samples) / sfreq\n",
    "    ref_signals = []\n",
    "    for freq in frequencies:\n",
    "        ref_signals.append(np.sin(2 * np.pi * freq * t))\n",
    "        ref_signals.append(np.cos(2 * np.pi * freq * t))\n",
    "    return np.array(ref_signals).T\n",
    "\n",
    "def bandpass_filter(data, lowcut, highcut, fs, order=5):\n",
    "    nyquist = 0.5 * fs\n",
    "    low = lowcut / nyquist\n",
    "    high = highcut / nyquist\n",
    "    b, a = butter(order, [low, high], btype='band')\n",
    "    y = lfilter(b, a, data)\n",
    "    return y\n",
    "\n",
    "def fbcca(epochs, frequencies, sfreq, n_samples, filter_bank):\n",
    "    cca = CCA(n_components=1)\n",
    "    n_epochs = epochs.shape[0]\n",
    "    n_channels = epochs.shape[1]\n",
    "    \n",
    "    fbcca_results = []\n",
    "\n",
    "    for epoch_idx in range(n_epochs):\n",
    "        epoch_data = epochs[epoch_idx]\n",
    "\n",
    "        max_corr = 0\n",
    "        detected_freq = None\n",
    "\n",
    "        for freq in frequencies:\n",
    "            corr_sum = 0\n",
    "\n",
    "            for fb in filter_bank:\n",
    "                filtered_data = np.zeros((n_channels, n_samples))\n",
    "                \n",
    "                for ch in range(n_channels):\n",
    "                    filtered_data[ch, :] = bandpass_filter(epoch_data[ch, :], fb['low'], fb['high'], sfreq)\n",
    "                \n",
    "                filtered_data = filtered_data.T\n",
    "                ref_signals = generate_reference_signals([freq], sfreq, n_samples)\n",
    "                \n",
    "                X_c, Y_c = cca.fit_transform(filtered_data, ref_signals)\n",
    "                \n",
    "                corr = np.corrcoef(X_c.T, Y_c.T)[0, 1]\n",
    "                corr_sum += corr\n",
    "            \n",
    "            avg_corr = corr_sum / len(filter_bank)\n",
    "\n",
    "            if avg_corr > max_corr:\n",
    "                max_corr = avg_corr\n",
    "                detected_freq = freq\n",
    "        \n",
    "        fbcca_results.append(detected_freq)\n",
    "\n",
    "    return fbcca_results\n",
    "\n",
    "frequencies = [8, 9, 10, 11, 12]  # Example stimulus frequencies in Hz\n",
    "sfreq = 250\n",
    "n_samples_per_epoch = 1500\n",
    "# Create the filter bank\n",
    "filter_bank = [\n",
    "    {'low': 6, 'high': 18},\n",
    "    {'low': 14, 'high': 36},\n",
    "    {'low': 28, 'high': 64}\n",
    "]\n",
    "\n",
    "# Get the data from epochs (n_epochs, n_channels, n_times)\n",
    "epochs_data = epochs.get_data(copy=False)\n",
    "\n",
    "# Apply FBCCA\n",
    "fbcca_results = fbcca(epochs_data, frequencies, sfreq, n_samples_per_epoch, filter_bank)\n",
    "\n",
    "# Evaluate results\n",
    "labels = epochs.events[:, -1] + 7\n",
    "test_accuracy = accuracy_score(labels, fbcca_results)\n",
    "print(f\"the accuracy for the FBCCA on the EEG data is {test_accuracy}\")\n",
    "\n",
    "cm = confusion_matrix(labels, fbcca_results)\n",
    "plt.figure(figsize=(8, 6))\n",
    "sns.heatmap(cm, annot=True, fmt='d', cmap='Blues', cbar=False)\n",
    "plt.xlabel('Predicted Labels')\n",
    "plt.ylabel('True Labels')\n",
    "plt.title('Confusion Matrix')\n",
    "plt.show()\n"
   ]
  },
  {
   "cell_type": "code",
   "execution_count": null,
   "id": "8909bd4e-ecb9-4a23-aa9c-b289b2b6e982",
   "metadata": {},
   "outputs": [],
   "source": []
  }
 ],
 "metadata": {
  "kernelspec": {
   "display_name": "Python 3 (ipykernel)",
   "language": "python",
   "name": "python3"
  },
  "language_info": {
   "codemirror_mode": {
    "name": "ipython",
    "version": 3
   },
   "file_extension": ".py",
   "mimetype": "text/x-python",
   "name": "python",
   "nbconvert_exporter": "python",
   "pygments_lexer": "ipython3",
   "version": "3.12.4"
  }
 },
 "nbformat": 4,
 "nbformat_minor": 5
}
